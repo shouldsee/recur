{
 "cells": [
  {
   "cell_type": "code",
   "execution_count": 1,
   "metadata": {},
   "outputs": [
    {
     "name": "stdout",
     "output_type": "stream",
     "text": [
      "[WARN]Not finding data.py\n",
      "[WARN]Not finding data.py\n",
      "is in ipython: 1\n",
      "alias of mapper 11001010: 202\n",
      "rulestring of rule 110: 01110110\n"
     ]
    },
    {
     "data": {
      "image/png": "[encoded data removed]",
      "text/plain": [
       "<matplotlib.figure.Figure at 0x7f861b944910>"
      ]
     },
     "metadata": {},
     "output_type": "display_data"
    }
   ],
   "source": [
    "from recur import *\n",
    "import KBs\n",
    "reload(KBs)\n",
    "import KBs\n",
    "from KBs import *\n",
    "from pymisca.util import *\n",
    "\n",
    "### To be compiled\n",
    "def printmat(mat,sep=',',offset=0):\n",
    "    if isinstance(mat,np.ndarray):\n",
    "        mat=  mat.tolist()\n",
    "    printlines([sep.join(str(y) for y in  x) for x in mat])\n",
    "#     printlines([sep.join(str(y) for y in ('-,')*offset + x) for x in mat])\n",
    "\n",
    "kb  = kb_eca()\n",
    "rstr = '11001010'\n",
    "alias = kb.rulestr2alias(rstr)\n",
    "print 'alias of mapper %s:'%rstr,alias\n",
    "print 'rulestring of rule 110:',kb.alias2rulestr('110')\n",
    "\n",
    "random.seed(0)\n",
    "np.random.seed(30)\n",
    "env = CA_sys()\n",
    "env.family= kb_eca()\n",
    "# env.alias = '110'\n",
    "env.alias = '118'\n",
    "env.alias2rulestr()\n",
    "env.change_size((1,100,40**2))\n",
    "hist = sample(env,T=20)\n",
    "# hist.shape\n",
    "out = np.take(hist,0,axis=-1)\n",
    "showsptime(out[::-1])\n",
    "plt.show()\n",
    "\n"
   ]
  },
  {
   "cell_type": "code",
   "execution_count": 2,
   "metadata": {},
   "outputs": [
    {
     "data": {
      "image/png": "[encoded data removed]",
      "text/plain": [
       "<matplotlib.figure.Figure at 0x7f86682b0f90>"
      ]
     },
     "metadata": {},
     "output_type": "display_data"
    },
    {
     "name": "stdout",
     "output_type": "stream",
     "text": [
      "No of all tiles: 47260\n",
      "[(47191, [18, 35, 25, 49, 52]), (47209, [21, 86, 32, 63, 79]), (47224, [22, 88, 80]), (47257, [70, 93, 46, 89, 83]), (47259, [0])]\n",
      "Found tiles (len<5): [(47191, [18, 35, 25, 49, 52]), (47209, [21, 86, 32, 63, 79]), (47224, [22, 88, 80]), (47257, [70, 93, 46, 89, 83]), (47259, [0])]\n",
      "(101, 1, 3, 1)\n"
     ]
    },
    {
     "data": {
      "image/png": "[encoded data removed]",
      "text/plain": [
       "<matplotlib.figure.Figure at 0x7f8619e176d0>"
      ]
     },
     "metadata": {},
     "output_type": "display_data"
    },
    {
     "name": "stdout",
     "output_type": "stream",
     "text": [
      "CPU times: user 2.2 s, sys: 444 ms, total: 2.64 s\n",
      "Wall time: 2.11 s\n"
     ]
    }
   ],
   "source": [
    "%%time\n",
    "####################################################################\n",
    "#########oooo|oooo|xxx|xxxx|oooo####################################\n",
    "####################################################################\n",
    "####################################################################\n",
    "#########oooo|xxxc|xxx|oooo|oooo####################################\n",
    "#########Left##########Right######################################\n",
    "## source: left  oooo\n",
    "## sink  : right oooo\n",
    "## find paths from LEFT tiles to RIGHT tiles through glider tlies (xxxx)\n",
    "\n",
    "\n",
    "# main(per=1,T=3)\n",
    "\n",
    "\n",
    "import simpleCycles\n",
    "### Look for a period 2 glider, speed c/2 on a period 3 backgd\n",
    "### common product is 6, drift is 3/period\n",
    "\n",
    "### find period 2 static tiling\n",
    "### Decide a background to use\n",
    "\n",
    "Tbk = 3\n",
    "tile0 = par2tiles(env,T=Tbk,per=0,n=1)\n",
    "tile = tile0\n",
    "curr = pre2curr(tile,mid=1)\n",
    "# print mat2str(tile_flatten(tile0))\n",
    "amat = tile2adj(tile0)\n",
    "\n",
    "#### Possible speed up\n",
    "# interm = (amat.sum(axis=0))&(amat.sum(axis=1))!=0\n",
    "# print interm.shape\n",
    "# amat=  amat[interm,:][:,interm]\n",
    "# print amat.shape\n",
    "\n",
    "plt.imshow(amat)\n",
    "plt.show()\n",
    "\n",
    "\n",
    "\n",
    "cks = simpleCycles.simple_cycles(adj2dct(amat))\n",
    "# import networkx as nx\n",
    "# g = nx.DiGraph(amat)\n",
    "# cks = nx.simple_cycles(g)\n",
    "cks = list(cks)\n",
    "print 'No of all tiles:',len(cks)\n",
    "cks = filter(lambda (i,x):len(x)<=5,enumerate(cks))\n",
    "# print len(cks)\n",
    "print cks[:10]\n",
    "\n",
    "# ck = cks[0]\n",
    "ck = cks[2]\n",
    "i,ck = ck\n",
    "bkd = sum([curr[x] for x in ck],())\n",
    "print 'Found tiles (len<5):',cks[:10]\n",
    "\n",
    "show_cycle(env,ck,curr)\n",
    "plt.show()\n"
   ]
  },
  {
   "cell_type": "code",
   "execution_count": 3,
   "metadata": {},
   "outputs": [],
   "source": [
    "### Manually selecting background to search\n",
    "# ck = cks[2]\n",
    "# i,ck = ck\n",
    "# bkd = sum([curr[x] for x in ck],())\n",
    "# print bkd\n",
    "\n",
    "# print cycle_cut(bkd,5)\n",
    "# print cycle_cut(bkd,-5)"
   ]
  },
  {
   "cell_type": "code",
   "execution_count": 4,
   "metadata": {},
   "outputs": [
    {
     "name": "stdout",
     "output_type": "stream",
     "text": [
      "6\n",
      "3\n",
      "3\n",
      "-6\n",
      "(176, 176)\n",
      "12\n",
      "(8, 8)\n",
      "6933\n",
      "8\n",
      "176\n",
      "6077\n",
      "\n",
      "### Finding paths on the Graph\n",
      "\n",
      "(6261, 6261, 12)\n",
      "[[1, 413, 2345, 4681, 42], [1, 413, 2346, 5952, 43], [1, 414, 3215, 4689, 45], [1, 415, 4730, 78, 47], [1, 415, 4733, 4697, 48], [1, 415, 4734, 5956, 49], [1, 415, 4730, 78], [1, 415, 4730, 78, 47, 149, 83], [1, 415, 4730, 1247, 2247, 5390, 86], [1, 415, 4730, 1247, 2248, 6159, 87]]\n",
      "Number of paths: 112\n"
     ]
    },
    {
     "name": "stderr",
     "output_type": "stream",
     "text": [
      "/home/shouldsee/.local/lib/python2.7/site-packages/ipykernel_launcher.py:69: RuntimeWarning: Couldn't reach some vertices at structural_properties.c:740\n"
     ]
    }
   ],
   "source": [
    "# %%time\n",
    "##### Looking for glider compatible on this background\n",
    "# Tbk = ?\n",
    "per = 2 #### period of glider\n",
    "Tb = lcm(abs(per),Tbk)\n",
    "drift = Tb//per\n",
    "Lb = lcm(abs(drift),len(bkd))\n",
    "assert Lb <= 5\n",
    "assert Tb <=10\n",
    "print Tb\n",
    "print drift\n",
    "print Lb\n",
    "\n",
    "spper = Tb//per/Lb\n",
    "assert isinstance(spper,int)\n",
    "\n",
    "#### Construct glider tile\n",
    "tile = tile_flatten(par2tiles(env,n=Lb,T=Tb,per=per))\n",
    "##### filter glider tile to make sure it's non-stationary\n",
    "# tile = [x for x,_ in filter(lambda (x,y): tuple(x[2+Tb:-Tb])!=tuple(y),zip(tile,pre2curr(tile)))]\n",
    "# assert tile\n",
    "tileG = tile\n",
    "\n",
    "##### List background tiles\n",
    "tile0 = main(env,glider=bkd,T=Tb,per=0,findall=1)\n",
    "curr = pre2curr(tile0)\n",
    "tile0 = tile_flatten(tile0)\n",
    "\n",
    "\n",
    "### Construct Right bkgd tile\n",
    "L = -(Tb + (1-spper)*Lb)\n",
    "print L\n",
    "tileRight = tile_filter(tile0,L,bkd)\n",
    "\n",
    "### Construct Left bkgd tile\n",
    "L = Tb + (1+spper)* Lb\n",
    "print L\n",
    "tileLeft = tile_filter(tile0,L,bkd)\n",
    "\n",
    "print len(tile0)\n",
    "print len(tileLeft)\n",
    "print len(tileRight)\n",
    "print len(tileG)\n",
    "\n",
    "\n",
    "msg = '''\n",
    "### Finding paths on the Graph\n",
    "'''\n",
    "print msg\n",
    "\n",
    "tile = sum([ x.tolist() if not isinstance(x,list) else x  for x in \n",
    "            [tileLeft,tileRight,tileG]] ,\n",
    "          [])\n",
    "curr = pre2curr(tile,mid=0,env=env)\n",
    "\n",
    "T = Tb\n",
    "heads  = [x[2:2+2*T] for x in tile]\n",
    "tails  = [x[-2*T:] for x in tile]\n",
    "amat = np.array(tails)[:,None] == np.array(heads)[None,:]\n",
    "print amat.shape\n",
    "amat = np.all( amat,axis=-1)\n",
    "g = Graph.Adjacency(amat.tolist())\n",
    "\n",
    "\n",
    "# find_all_paths(g,0,1)\n",
    "tLidx = range(len(tileLeft))\n",
    "tRidx = range(len(tileLeft),len(tileLeft)+len(tileRight))\n",
    "lst = []\n",
    "res = map(lambda L: g.get_shortest_paths(L,tRidx),tLidx)\n",
    "\n",
    "out = sum(res,[])\n",
    "out = [x for x in out if x]\n",
    "print out[:10]\n",
    "print 'Number of paths:',len(out)"
   ]
  },
  {
   "cell_type": "code",
   "execution_count": 5,
   "metadata": {},
   "outputs": [
    {
     "name": "stdout",
     "output_type": "stream",
     "text": [
      "[6, 6, 6, 4, 6, 6, 4, 4, 10, 10, 10, 6, 8, 8, 6, 8, 8, 8, 6, 8, 8, 4, 6, 8, 8, 6, 10, 6, 6, 6, 6, 4, 6, 6, 4, 0, 4, 4, 4, 4, 6, 6, 4, 6, 6, 6, 4, 6, 6, 4, 6, 8, 8, 6, 8, 4, 10, 10, 10, 8, 10, 10, 10, 4, 4, 4, 10, 4, 6, 6, 4, 12, 12, 12, 10, 12, 12, 4, 6, 8, 8, 6, 8, 4, 12, 12, 12, 10, 12, 12, 10, 4, 10, 10, 4, 6, 8, 8, 6, 6, 6, 6, 4, 6, 6, 4, 6, 8, 8, 6, 10, 6]\n",
      "Nonzero drift: [  0   1   2   3   4   5   6   7   8   9  10  11  12  13  14  15  16  17\n",
      "  18  19  20  21  22  23  24  25  26  27  28  29  30  31  32  33  34  36\n",
      "  37  38  39  40  41  42  43  44  45  46  47  48  49  50  51  52  53  54\n",
      "  55  56  57  58  59  60  61  62  63  64  65  66  67  68  69  70  71  72\n",
      "  73  74  75  76  77  78  79  80  81  82  83  84  85  86  87  88  89  90\n",
      "  91  92  93  94  95  96  97  98  99 100 101 102 103 104 105 106 107 108\n",
      " 109 110 111]\n"
     ]
    }
   ],
   "source": [
    "\n",
    "\n",
    "per = [x[1] for x in tile]\n",
    "per_gb =  [sum(per[i] for i in x) for x in out]\n",
    "\n",
    "print per_gb\n",
    "# i = 82\n",
    "# i = 0\n",
    "lst = np.where(np.array(per_gb)>0)[0]\n",
    "print 'Nonzero drift:',lst\n",
    "\n",
    "import sys\n",
    "\n",
    "def show(i,verbose=0):\n",
    "    '''\n",
    "    Take tiles and visualise them\n",
    "    '''\n",
    "    print i\n",
    "    ck = out[i]\n",
    "    ck = ck[0:1]*2 + ck + ck[-1:]*2\n",
    "    if verbose:\n",
    "        for i,x in enumerate(ck):\n",
    "            print '%s\\t'%x,\n",
    "            sys.stdout.write('-,'*i*Lb)\n",
    "#             print('-,'*i)\n",
    "            print mat2str([tile[x][2:]],sep=',')\n",
    "        print ck \n",
    "        print [curr[x] for x in ck]\n",
    "    show_cycle( env,ck,curr)\n",
    "# print per_gb\n",
    "# print np.where(np.array(per_gb)==0)[0]\n",
    "    plt.show()\n",
    "# out[0]"
   ]
  },
  {
   "cell_type": "code",
   "execution_count": 6,
   "metadata": {
    "scrolled": false
   },
   "outputs": [
    {
     "name": "stdout",
     "output_type": "stream",
     "text": [
      "0\n",
      "1\t0,1,1,0,1,1,0,1,1,0,1,1,0,0,1\n",
      "1\t-,-,-,0,1,1,0,1,1,0,1,1,0,1,1,0,0,1\n",
      "1\t-,-,-,-,-,-,0,1,1,0,1,1,0,1,1,0,1,1,0,0,1\n",
      "413\t-,-,-,-,-,-,-,-,-,0,1,1,0,1,1,0,1,1,0,0,1,1,0,0\n",
      "2345\t-,-,-,-,-,-,-,-,-,-,-,-,0,1,1,0,1,1,0,0,1,1,0,0,1,1,0\n",
      "4681\t-,-,-,-,-,-,-,-,-,-,-,-,-,-,-,0,1,1,0,0,1,1,0,0,1,1,0,0,1,1\n",
      "42\t-,-,-,-,-,-,-,-,-,-,-,-,-,-,-,-,-,-,0,0,1,1,0,0,1,1,0,0,1,1,0,1,1\n",
      "42\t-,-,-,-,-,-,-,-,-,-,-,-,-,-,-,-,-,-,-,-,-,0,0,1,1,0,0,1,1,0,0,1,1,0,1,1\n",
      "42\t-,-,-,-,-,-,-,-,-,-,-,-,-,-,-,-,-,-,-,-,-,-,-,-,0,0,1,1,0,0,1,1,0,0,1,1,0,1,1\n",
      "[1, 1, 1, 413, 2345, 4681, 42, 42, 42]\n",
      "[array([0, 1, 1]), array([0, 1, 1]), array([0, 1, 1]), array([0, 0, 1]), array([1, 0, 0]), array([1, 1, 0]), array([0, 1, 1]), array([0, 1, 1]), array([0, 1, 1])]\n",
      "(101, 1, 27, 1)\n"
     ]
    },
    {
     "data": {
      "image/png": "[encoded data removed]",
      "text/plain": [
       "<matplotlib.figure.Figure at 0x7f8612517610>"
      ]
     },
     "metadata": {},
     "output_type": "display_data"
    }
   ],
   "source": [
    "show(0,verbose=1)"
   ]
  },
  {
   "cell_type": "code",
   "execution_count": 7,
   "metadata": {
    "scrolled": false
   },
   "outputs": [
    {
     "name": "stdout",
     "output_type": "stream",
     "text": [
      "0\n",
      "(101, 1, 27, 1)\n"
     ]
    },
    {
     "data": {
      "image/png": "[encoded data removed]",
      "text/plain": [
       "<matplotlib.figure.Figure at 0x7f8619e6c750>"
      ]
     },
     "metadata": {},
     "output_type": "display_data"
    },
    {
     "name": "stdout",
     "output_type": "stream",
     "text": [
      "1\n",
      "(101, 1, 27, 1)\n"
     ]
    },
    {
     "data": {
      "image/png": "[encoded data removed]",
      "text/plain": [
       "<matplotlib.figure.Figure at 0x7f8619ecd250>"
      ]
     },
     "metadata": {},
     "output_type": "display_data"
    },
    {
     "name": "stdout",
     "output_type": "stream",
     "text": [
      "2\n",
      "(101, 1, 27, 1)\n"
     ]
    },
    {
     "data": {
      "image/png": "[encoded data removed]",
      "text/plain": [
       "<matplotlib.figure.Figure at 0x7f86124bad90>"
      ]
     },
     "metadata": {},
     "output_type": "display_data"
    },
    {
     "data": {
      "text/plain": [
       "[None, None, None]"
      ]
     },
     "execution_count": 7,
     "metadata": {},
     "output_type": "execute_result"
    }
   ],
   "source": [
    "map(show,lst[:3])"
   ]
  }
 ],
 "metadata": {
  "kernelspec": {
   "display_name": "Python 2",
   "language": "python",
   "name": "python2"
  },
  "language_info": {
   "codemirror_mode": {
    "name": "ipython",
    "version": 2
   },
   "file_extension": ".py",
   "mimetype": "text/x-python",
   "name": "python",
   "nbconvert_exporter": "python",
   "pygments_lexer": "ipython2",
   "version": "2.7.12"
  }
 },
 "nbformat": 4,
 "nbformat_minor": 2
}
